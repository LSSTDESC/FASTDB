{
 "cells": [
  {
   "cell_type": "markdown",
   "id": "b03cc028-749b-4503-a318-65f0a48e7b11",
   "metadata": {},
   "source": [
    "# Using fastdb_client\n",
    "\n",
    "This example is for running in Perlmutter.  You may be able to easily convert it for somewhere else.\n",
    "\n",
    "## What is fastdb_client\n",
    "\n",
    "It's a python program useful for connecting to instances of FASTDB.  At some level, it's just a wrapper around python `requests`, but it handles some other stuff you wouldn't want to handle manually.  For example, logging into FASTDB is not just a matter of sending a password over the net, but is a complicated handshaking of public key cryptography (created by somebody trying to be paranoid to make sure the password itself never needed to be sent over the network from your machine to the server machine).  The fastdb_client takes care of all of that for you.  It has the ability to do some format parsing of responses from the web server.  Finally, it has a built-in \"sleep and retry\" cycle, where if the connection to the FASTDB server fails for some reason (which does happen--- this is the Internet, after all), it will sleep a few seconds and retry, repeating that (by default) five times before giving up for good.  This can greatly increase the reliability of scripts that use the fastdb_client, saving you from having to implement your own error catching and retry loop.\n",
    "\n",
    "## Getting an account\n",
    "\n",
    "To use FASTDB, you need an account on the instance of the FASTDB web server you want to interact with.  As of this writing, the only one that exists is `https://fastdb-rknop-dev.lbl.gov`, and as its name suggests, it's a development server that may be down at any time, or that may have unexpected changes of contents and state at any time.  To get an account, ask Rob Knop (via Discovery Alliance Slack) for an account; I will need the username you want for the account, the name you want displayed when you are logged in, and the email address associated with the account.  Once I tell you the account is created, go to the webserver in your browser, and click on \"Request Password Reset\".  Put in your username, and click \"Email Password Resent Link\".  Shortly thereafter, in your email you should find a message with a link to click on to reset your password.  (When your account is first created, it does not have a password; you can not log into it until you set one.)\n",
    "\n",
    "Make sure to choose a <a href=\"http://rknop.net/password.html\">good password</a>.  FASTDB is currently not using any TFA, and I'm really hoping we won't feel the need to go that way, as that will make a lot of life a lot more complicated.\n",
    "\n",
    "### Setting up a convenience initialization file\n",
    "\n",
    "You can always just use the url, username, and password every time you connect to fastdb.  However, it will probably make your life easier if you create a file `.fastdb.ini` (notice the period at the beginning) in your home directory.  This file will have contents like:\n",
    "\n",
    "```\n",
    "[rknop-dev]\n",
    "url = https://fastdb-rknop-dev.lbl.gov\n",
    "username = <your username>\n",
    "password = <your password>\n",
    "\n",
    "[production]\n",
    "url = https://desc-fastdb.lbl.gov\n",
    "username = <your username>\n",
    "password = <your password>\n",
    "```\n",
    "\n",
    "Each block of lines starting with a line in brackets represents one FASTDB server you might want to connect to.  The name in brackets can be whatever you want; it will be wha tyou use in order to specify the server you want to conenct to.  Below each bracketed line, you need three lines, similar to the example above, which specify the URL of the web server, your username on that server, and your password on that server.  (As of this writing you do not want to include the `[production]` block because that server does not exist.)\n",
    "\n",
    "**Important**: the fastdb client will refuse to use this `.ini` file if it's permissions aren't sufficiently paranoid.  After you've created the file, run\n",
    "```\n",
    "cd\n",
    "chmod go -rwx .fastdb.ini\n",
    "```\n",
    "to make sure that only you can read it.\n",
    "\n",
    "There are actually a number of other configuration options you can specify here, but for now they're not that important.  Talk to Rob, or read the `fastdb_client.py` source code if you're interested.\n",
    "\n",
    "## Setting up your environment\n",
    "\n",
    "Hopefully, before long, the necessary python libraries will be in the desc `td_env` environment.  The FASTDB client requires that `pycryptodome` be installed (which, if you're building your own environment, is a simple matter of `pip install pycryptodome`), but as of this writing it's not in `td_env`.\n",
    "\n",
    "### Running from the command line\n",
    "\n",
    "If you're running from the command line, you can get a minimal environment that has what you need to run `fastdb` by running\n",
    "```\n",
    "source /global/cfs/cdirs/lsst/groups/TD/SOFTWARE/fastdb_deployment/fastdb_client_venv/bin/activate\n",
    "```\n",
    "Then, later, just run `deactivate` to leave the environment.\n",
    "\n",
    "### Running from jupyter\n",
    "\n",
    "At some point in the future, you will be able to just the `desc-td` kernel.  But, as of this writing, that kernel doesn't have the necessary `pycryptodome` libraries.\n",
    "\n",
    "To set yourself up, on perlmutter, run\n",
    "```\n",
    "cd\n",
    "mkdir -p .local/share/jupyter/kernels/fastdb-client\n",
    "cd .local/share/jupyter/kernels/fastdb-client\n",
    "```\n",
    "once you're in that directory (which the last `cd` command did), create a text file `kernel.json` with the following contents:\n",
    "```\n",
    "{\n",
    "  \"argv\": [\n",
    "    \"/global/cfs/cdirs/desc-td/SOFTWARE/fastdb_deployment/fastdb_client_venv/fastdb_client-env.sh\",\n",
    "    \"-f\",\n",
    "    \"{connection_file}\"\n",
    "  ],\n",
    "  \"display_name\": \"fastdb-client-env\",\n",
    "  \"language\": \"python\"\n",
    "}\n",
    "```\n",
    "\n",
    "Thereafter, if you log into Perlmutter's Jupyter hub, you should be able to start a notebook that uses the `fastdb-client-env` kernel.  This example script was run within that kernel."
   ]
  },
  {
   "cell_type": "code",
   "execution_count": 1,
   "id": "9dc7702b-5b4b-4782-9775-034d5cc6fac6",
   "metadata": {},
   "outputs": [],
   "source": [
    "# The FastDB client can be found on Perlmutter in the directory\n",
    "#   /global/cfs/cdirs/lsst/groups/TD/SOFTWARE/fastdb_deployment/fastdb_client\n",
    "# (The client there is actually a symbolic link to something else underneath\n",
    "# fastdb_deployment.  If you know what you're doing, you may want to use a\n",
    "# version of the client other than the one there, but by default that's the\n",
    "# right one to use.)  Put this directory in your PYTHONPATH so it will be found.\n",
    "import sys\n",
    "sys.path.insert( 0, '/global/cfs/cdirs/lsst/groups/TD/SOFTWARE/fastdb_deployment/fastdb_client' )\n",
    "\n",
    "#...and import!\n",
    "from fastdb_client import FASTDBClient\n"
   ]
  },
  {
   "cell_type": "code",
   "execution_count": 2,
   "id": "8fa70078-91e4-4a1e-8c28-651e65d41d11",
   "metadata": {},
   "outputs": [],
   "source": [
    "# Create your connection to fastdb.  This will log you in.\n",
    "#\n",
    "# There are two ways to do this.\n",
    "# You can always just specify the url, username, and password, with \n",
    "#   something like:\n",
    "#      fdb = FASTDBClient( 'https://fastdb-rknop-dev.lbl.gov', 'rknop', 'not_really_robs_password' )\n",
    "#   where the three arguments are url, username, and password.  BE CAREFUL PUTTING PASSWORDS IN SCRIPTS,\n",
    "#   and NEVER commit a script that has a password in it to a git archive anywhere!  If you do, immmediately\n",
    "#   change your password.\n",
    "# The other alternative is just to use the name you set up in your ~/.fastdb.ini file (described above).\n",
    "#   that's what I do here.\n",
    "\n",
    "fdb = FASTDBClient( \"rknop-dev\" )"
   ]
  },
  {
   "cell_type": "markdown",
   "id": "f0ee9191-5a7b-42e9-bc01-afd47f8ff1d8",
   "metadata": {},
   "source": [
    "## WEB API Endpoints\n",
    "\n",
    "(Nothing currently exists.  Watch this space.)"
   ]
  },
  {
   "cell_type": "markdown",
   "id": "96d7179f-0e56-446c-a7e0-ec28b0782209",
   "metadata": {},
   "source": [
    "## Direct SQL Queries\n",
    "\n",
    "You can make make direct read-only queries to the PostgreSQL database behind the FASDTB webserver.  You construct queries and substitution dictionaries just like you'd send to `psycopg2`'s `cursor.execute` method.  (Use the `%(name)s` format for substitutions in your query, *not* the simple `%s` format where you'd pass a list as the second argument of `cursor.execute.)\n",
    "\n",
    "There are two interfaces.  The \"short\" query interface is for queries that will complete in less than five minutes.  (This is actually not a database restriction, but a restriction of the web proxy in front of the FASTDB web server; it will time any connection out after five minutes.)  The \"long\" query interface is for longer queries.  It normally has a cycle of submitting a query, repeatingly checking to see if it's done, and then asking for the results.  However, the fastdb_client has a function that wraps all of that into one call that's as simple to use as the short SQL query.\n",
    "\n",
    "For both interfaces, you can either pass a single query, or a list of queries.  If you pass a list of queries, you will only get the results from the *last* query.  If you want the results of multiple queries, send them each in individually.  The purpose of allowing multiple queries is so that you can play games with temporary tables and such while doing a complicated query.  If you past a list of queries, then you must also pass a list of substitution dictionaries that has the same length as your query list.\n",
    "\n",
    "Using either interface requires you to understand the structures of the tables.  In particular, you need to undertand about `processing_version` and `snapshot`.  If you do not, and just look at columns in the `diaobject` and `diasource` tables, there is an excellent chance you will not get what you think you are getting.  See ROB PUT IN THE PLACE WHERE YOU DOCUMENT THE DATABASE SCHEMA AND STRUCTURE."
   ]
  },
  {
   "cell_type": "code",
   "execution_count": 3,
   "id": "533ba52a-dc5a-48e4-8eda-888eb74b0f45",
   "metadata": {},
   "outputs": [
    {
     "name": "stdout",
     "output_type": "stream",
     "text": [
      "Got back a <class 'list'> of length 10\n",
      "The keys in the first element of the resonse are: dict_keys(['diaobjectid', 'processing_version', 'radecmjdtai', 'validitystart', 'validityend', 'ra', 'raerr', 'dec', 'decerr', 'ra_dec_cov', 'nearbyextobj1', 'nearbyextobj1id', 'nearbyextobj1sep', 'nearbyextobj2', 'nearbyextobj2id', 'nearbyextobj2sep', 'nearbyextobj3', 'nearbyextobj3id', 'nearbyextobj3sep', 'nearbylowzgal', 'nearbylowzgalsep', 'parallax', 'parallaxerr', 'pmra', 'pmraerr', 'pmra_parallax_cov', 'pmdec', 'pmdecerr', 'pmdec_parallax_cov', 'pm_ra_dec_cov'])\n"
     ]
    }
   ],
   "source": [
    "# The short query interface is for queries that take less than 5 minutes.\n",
    "#\n",
    "# If all is well, you get back either a list of dictionaries, or a dictionary of\n",
    "# column→list, depending on how you call the short query interface.\n",
    "\n",
    "# A quick example: let's get the 10 objects with the lowest diaobjectid.  (This isn't something that\n",
    "# would usually be useful, but it's an easy example.)\n",
    "\n",
    "res = fdb.submit_short_sql_query( \"SELECT * FROM diaobject ORDER BY diaobjectid LIMIT 10\" )\n",
    "print( f\"Got back a {type(res)} of length {len(res)}\" )\n",
    "print( f\"The keys in the first element of the resonse are: {res[0].keys()}\" )"
   ]
  },
  {
   "cell_type": "code",
   "execution_count": 4,
   "id": "e2d2c19e-f526-47d4-a97d-7553ba4d0ca2",
   "metadata": {},
   "outputs": [
    {
     "name": "stdout",
     "output_type": "stream",
     "text": [
      "Got back a <class 'dict'> with 30 keys; res['diaobjectid'] has length 10\n",
      "The diaobjectids returned are 1000052, 1000065, 1000111, 1000154, 1000155, 1000168, 1000283, 1000294, 1000296, 1000344\n"
     ]
    }
   ],
   "source": [
    "# While a list of dictionaries is sometimes convenient, it's also a wasteful format,\n",
    "# as the JSON that's passed from server to client repeats all of the column names every\n",
    "# single row.  You can also ask for a dictionary of columns to lists of values.\n",
    "# Do this by passing return_format=1 to submit_short_sql_query.\n",
    "\n",
    "res = fdb.submit_short_sql_query( \"SELECT * FROM diaobject ORDER BY diaobjectid LIMIT 10\", return_format=1 )\n",
    "print( f\"Got back a {type(res)} with {len(res.keys())} keys; res['diaobjectid'] has length {len(res['diaobjectid'])}\" )\n",
    "print( f\"The diaobjectids returned are {', '.join([ str(i) for i in res['diaobjectid'] ])}\" )"
   ]
  },
  {
   "cell_type": "code",
   "execution_count": 6,
   "id": "2210cdcf-7bda-4b89-86e6-3ab58cdd6547",
   "metadata": {},
   "outputs": [
    {
     "name": "stdout",
     "output_type": "stream",
     "text": [
      "5 objects within 4.00 arcmin of (228.00000, 5.00000)\n"
     ]
    }
   ],
   "source": [
    "# You can pass variables when constructing your query. The query below is going to ask for all objects within\n",
    "#   4 arcminutes of (RA, Dec) = (228°, 5.°) \n",
    "# The q3c_radial_query function is from the q3c postgres extension:\n",
    "#   https://github.com/segasai/q3c\n",
    "# A number of the tables have q3c indices defined for faster spatial querying.\n",
    "\n",
    "query = \"SELECT * FROM diaobject WHERE q3c_radial_query(ra,dec,%(ra)s,%(dec)s, %(rad)s)\"\n",
    "subs = { 'ra': 228., 'dec': 5., 'rad': 240./3600. }\n",
    "res = fdb.submit_short_sql_query( query, subs, return_format=0 )\n",
    "print( f\"{len(res)} objects within {subs['rad']*60.:.2f} arcmin of ({subs['ra']:.5f}, {subs['dec']:.5f})\" )"
   ]
  },
  {
   "cell_type": "code",
   "execution_count": null,
   "id": "19eab335-f50b-4f76-a525-b108134aceab",
   "metadata": {},
   "outputs": [],
   "source": []
  }
 ],
 "metadata": {
  "kernelspec": {
   "display_name": "fastdb-client-env",
   "language": "python",
   "name": "fastdb-client"
  },
  "language_info": {
   "codemirror_mode": {
    "name": "ipython",
    "version": 3
   },
   "file_extension": ".py",
   "mimetype": "text/x-python",
   "name": "python",
   "nbconvert_exporter": "python",
   "pygments_lexer": "ipython3",
   "version": "3.10.10"
  }
 },
 "nbformat": 4,
 "nbformat_minor": 5
}
