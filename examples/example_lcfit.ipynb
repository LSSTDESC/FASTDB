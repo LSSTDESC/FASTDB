{
 "cells": [
  {
   "cell_type": "markdown",
   "id": "b03cc028-749b-4503-a318-65f0a48e7b11",
   "metadata": {},
   "source": [
    "# Example LC fit using the FAST DB API\n",
    "\n",
    "This example assumes you've done the steps in the `using_fastdb_client.ipynb` example first. If not, go there and do those first. \n",
    "\n",
    "\n",
    "## Setting up your environment\n",
    "\n",
    "`fastdb_client.py` requires libraries that are not yet in the standard desc time domain environment.  However, they are in the current dev environment.  On Perlmutter, you can get yourself in this environment with\n",
    "```\n",
    "source $CFS/lsst/groups/TD/setup_td_dev.sh\n",
    "```\n",
    "\n",
    "On your local machine, install `pycryptodome` and modify the `sys.path.insert` to point to the part for your local `fastdb_client.py` file."
   ]
  },
  {
   "cell_type": "code",
   "execution_count": null,
   "id": "9dc7702b-5b4b-4782-9775-034d5cc6fac6",
   "metadata": {},
   "outputs": [],
   "source": [
    "import sys\n",
    "\n",
    "# sys.path.insert( 0, '/global/cfs/cdirs/lsst/groups/TD/SOFTWARE/fastdb_deployment/fastdb_client' )\n",
    "sys.path.insert( 0, '/Users/gnarayan/work/FASTDB/client/' )\n",
    "\n",
    "#...and import!\n",
    "from fastdb_client import FASTDBClient\n",
    "\n",
    "# Also import other stuff we'll need\n",
    "import io\n",
    "import time\n",
    "import pandas\n",
    "import json\n"
   ]
  },
  {
   "cell_type": "code",
   "execution_count": null,
   "id": "8fa70078-91e4-4a1e-8c28-651e65d41d11",
   "metadata": {},
   "outputs": [],
   "source": [
    "# Create your connection to fastdb.  This will log you in.\n",
    "# the connection info is in the .fastdb.ini file \n",
    "fdb = FASTDBClient( \"rknop-dev2\" )"
   ]
  },
  {
   "cell_type": "markdown",
   "id": "f0ee9191-5a7b-42e9-bc01-afd47f8ff1d8",
   "metadata": {},
   "source": [
    "## WEB API Endpoints\n",
    "\n",
    "You use the fastdb client to connect to web API endpoints on the server.  All of these will eventually be documented, but for now, here are some examples of endpoints that you can hit."
   ]
  },
  {
   "cell_type": "code",
   "execution_count": null,
   "id": "72ccb52f-4dce-43d1-90c6-a871e927a1ee",
   "metadata": {},
   "outputs": [],
   "source": [
    "# /getprocvers lists all the known processing versions and processing version aliases. \n",
    "# (There are at most as many different processing versions as the list you get back,\n",
    "# because one processing version may have multiple aliases.)\n",
    "res = fdb.post( \"/getprocvers\" )\n",
    "print( res )"
   ]
  },
  {
   "cell_type": "code",
   "execution_count": null,
   "id": "1d7d14f0-e96c-468a-b196-3dd63bbd31a3",
   "metadata": {},
   "outputs": [],
   "source": [
    "# You can get the lightcurve for an object if you know it's object ID with the /ltcv/getltcv \n",
    "# endpoint.  Give it the processing version and the diaobjectid as additional slash-separated\n",
    "# url components.\n",
    "t0 = time.perf_counter()\n",
    "ltcvdict = fdb.post( \"/ltcv/getltcv/dp1/609782208097419314\" )\n",
    "print( f\"/ltcv/getltcv took {time.perf_counter()-t0:.2f} seconds\" )\n",
    "\n",
    "# The dictionary you get back has keys 'status', 'objectinfo' and 'ltcv':\n",
    "print( f\"Got back ltcvdict with keys {ltcvdict.keys()}\" )\n",
    "\n",
    "print( f\"Object info: {json.dumps( ltcvdict['objinfo'], indent=4 )}\" )\n",
    "\n",
    "ltcv = pandas.DataFrame( ltcvdict['ltcv'] )\n",
    "ltcv"
   ]
  },
  {
   "cell_type": "code",
   "execution_count": null,
   "id": "6f8f62fa-057c-4e4f-9458-123ec2932abf",
   "metadata": {},
   "outputs": [],
   "source": [
    "# You can search for lightcurves with /objectsearch/<procver>\n",
    "# This one requires you to pass some search data as a dict:\n",
    "\n",
    "res = fdb.post( \"/objectsearch/dp1\", json={\"ra\": 52.83825, \"dec\": -28.27990, \"radius\": 1.} )\n",
    "objs = pandas.DataFrame(res)\n",
    "objs"
   ]
  },
  {
   "cell_type": "code",
   "execution_count": null,
   "id": "145243c9-1eab-44e8-87b7-21bda1fe9734",
   "metadata": {},
   "outputs": [],
   "source": []
  }
 ],
 "metadata": {
  "kernelspec": {
   "display_name": "Python 3 (ipykernel)",
   "language": "python",
   "name": "python3"
  },
  "language_info": {
   "codemirror_mode": {
    "name": "ipython",
    "version": 3
   },
   "file_extension": ".py",
   "mimetype": "text/x-python",
   "name": "python",
   "nbconvert_exporter": "python",
   "pygments_lexer": "ipython3",
   "version": "3.10.9"
  }
 },
 "nbformat": 4,
 "nbformat_minor": 5
}
